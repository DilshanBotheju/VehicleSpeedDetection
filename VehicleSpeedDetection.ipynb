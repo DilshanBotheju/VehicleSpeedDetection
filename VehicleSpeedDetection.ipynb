{
 "cells": [
  {
   "cell_type": "code",
   "execution_count": 2,
   "metadata": {},
   "outputs": [
    {
     "name": "stdout",
     "output_type": "stream",
     "text": [
      "Requirement already satisfied: ultralytics in c:\\users\\user\\documents\\mlprojects\\vehiclespeeddetection\\venv\\lib\\site-packages (8.3.83)\n",
      "Requirement already satisfied: numpy<=2.1.1,>=1.23.0 in c:\\users\\user\\documents\\mlprojects\\vehiclespeeddetection\\venv\\lib\\site-packages (from ultralytics) (2.1.1)\n",
      "Requirement already satisfied: matplotlib>=3.3.0 in c:\\users\\user\\documents\\mlprojects\\vehiclespeeddetection\\venv\\lib\\site-packages (from ultralytics) (3.10.1)\n",
      "Requirement already satisfied: opencv-python>=4.6.0 in c:\\users\\user\\documents\\mlprojects\\vehiclespeeddetection\\venv\\lib\\site-packages (from ultralytics) (4.11.0.86)\n",
      "Requirement already satisfied: pillow>=7.1.2 in c:\\users\\user\\documents\\mlprojects\\vehiclespeeddetection\\venv\\lib\\site-packages (from ultralytics) (11.1.0)\n",
      "Requirement already satisfied: pyyaml>=5.3.1 in c:\\users\\user\\documents\\mlprojects\\vehiclespeeddetection\\venv\\lib\\site-packages (from ultralytics) (6.0.2)\n",
      "Requirement already satisfied: requests>=2.23.0 in c:\\users\\user\\documents\\mlprojects\\vehiclespeeddetection\\venv\\lib\\site-packages (from ultralytics) (2.32.3)\n",
      "Requirement already satisfied: scipy>=1.4.1 in c:\\users\\user\\documents\\mlprojects\\vehiclespeeddetection\\venv\\lib\\site-packages (from ultralytics) (1.15.2)\n",
      "Requirement already satisfied: torch>=1.8.0 in c:\\users\\user\\documents\\mlprojects\\vehiclespeeddetection\\venv\\lib\\site-packages (from ultralytics) (2.6.0)\n",
      "Requirement already satisfied: torchvision>=0.9.0 in c:\\users\\user\\documents\\mlprojects\\vehiclespeeddetection\\venv\\lib\\site-packages (from ultralytics) (0.21.0)\n",
      "Requirement already satisfied: tqdm>=4.64.0 in c:\\users\\user\\documents\\mlprojects\\vehiclespeeddetection\\venv\\lib\\site-packages (from ultralytics) (4.67.1)\n",
      "Requirement already satisfied: psutil in c:\\users\\user\\documents\\mlprojects\\vehiclespeeddetection\\venv\\lib\\site-packages (from ultralytics) (7.0.0)\n",
      "Requirement already satisfied: py-cpuinfo in c:\\users\\user\\documents\\mlprojects\\vehiclespeeddetection\\venv\\lib\\site-packages (from ultralytics) (9.0.0)\n",
      "Requirement already satisfied: pandas>=1.1.4 in c:\\users\\user\\documents\\mlprojects\\vehiclespeeddetection\\venv\\lib\\site-packages (from ultralytics) (2.2.3)\n",
      "Requirement already satisfied: seaborn>=0.11.0 in c:\\users\\user\\documents\\mlprojects\\vehiclespeeddetection\\venv\\lib\\site-packages (from ultralytics) (0.13.2)\n",
      "Requirement already satisfied: ultralytics-thop>=2.0.0 in c:\\users\\user\\documents\\mlprojects\\vehiclespeeddetection\\venv\\lib\\site-packages (from ultralytics) (2.0.14)\n",
      "Requirement already satisfied: contourpy>=1.0.1 in c:\\users\\user\\documents\\mlprojects\\vehiclespeeddetection\\venv\\lib\\site-packages (from matplotlib>=3.3.0->ultralytics) (1.3.1)\n",
      "Requirement already satisfied: cycler>=0.10 in c:\\users\\user\\documents\\mlprojects\\vehiclespeeddetection\\venv\\lib\\site-packages (from matplotlib>=3.3.0->ultralytics) (0.12.1)\n",
      "Requirement already satisfied: fonttools>=4.22.0 in c:\\users\\user\\documents\\mlprojects\\vehiclespeeddetection\\venv\\lib\\site-packages (from matplotlib>=3.3.0->ultralytics) (4.56.0)\n",
      "Requirement already satisfied: kiwisolver>=1.3.1 in c:\\users\\user\\documents\\mlprojects\\vehiclespeeddetection\\venv\\lib\\site-packages (from matplotlib>=3.3.0->ultralytics) (1.4.8)\n",
      "Requirement already satisfied: packaging>=20.0 in c:\\users\\user\\documents\\mlprojects\\vehiclespeeddetection\\venv\\lib\\site-packages (from matplotlib>=3.3.0->ultralytics) (24.2)\n",
      "Requirement already satisfied: pyparsing>=2.3.1 in c:\\users\\user\\documents\\mlprojects\\vehiclespeeddetection\\venv\\lib\\site-packages (from matplotlib>=3.3.0->ultralytics) (3.2.1)\n",
      "Requirement already satisfied: python-dateutil>=2.7 in c:\\users\\user\\documents\\mlprojects\\vehiclespeeddetection\\venv\\lib\\site-packages (from matplotlib>=3.3.0->ultralytics) (2.9.0.post0)\n",
      "Requirement already satisfied: pytz>=2020.1 in c:\\users\\user\\documents\\mlprojects\\vehiclespeeddetection\\venv\\lib\\site-packages (from pandas>=1.1.4->ultralytics) (2025.1)\n",
      "Requirement already satisfied: tzdata>=2022.7 in c:\\users\\user\\documents\\mlprojects\\vehiclespeeddetection\\venv\\lib\\site-packages (from pandas>=1.1.4->ultralytics) (2025.1)\n",
      "Requirement already satisfied: charset-normalizer<4,>=2 in c:\\users\\user\\documents\\mlprojects\\vehiclespeeddetection\\venv\\lib\\site-packages (from requests>=2.23.0->ultralytics) (3.4.1)\n",
      "Requirement already satisfied: idna<4,>=2.5 in c:\\users\\user\\documents\\mlprojects\\vehiclespeeddetection\\venv\\lib\\site-packages (from requests>=2.23.0->ultralytics) (3.10)\n",
      "Requirement already satisfied: urllib3<3,>=1.21.1 in c:\\users\\user\\documents\\mlprojects\\vehiclespeeddetection\\venv\\lib\\site-packages (from requests>=2.23.0->ultralytics) (2.3.0)\n",
      "Requirement already satisfied: certifi>=2017.4.17 in c:\\users\\user\\documents\\mlprojects\\vehiclespeeddetection\\venv\\lib\\site-packages (from requests>=2.23.0->ultralytics) (2025.1.31)\n",
      "Requirement already satisfied: filelock in c:\\users\\user\\documents\\mlprojects\\vehiclespeeddetection\\venv\\lib\\site-packages (from torch>=1.8.0->ultralytics) (3.17.0)\n",
      "Requirement already satisfied: typing-extensions>=4.10.0 in c:\\users\\user\\documents\\mlprojects\\vehiclespeeddetection\\venv\\lib\\site-packages (from torch>=1.8.0->ultralytics) (4.12.2)\n",
      "Requirement already satisfied: networkx in c:\\users\\user\\documents\\mlprojects\\vehiclespeeddetection\\venv\\lib\\site-packages (from torch>=1.8.0->ultralytics) (3.4.2)\n",
      "Requirement already satisfied: jinja2 in c:\\users\\user\\documents\\mlprojects\\vehiclespeeddetection\\venv\\lib\\site-packages (from torch>=1.8.0->ultralytics) (3.1.5)\n",
      "Requirement already satisfied: fsspec in c:\\users\\user\\documents\\mlprojects\\vehiclespeeddetection\\venv\\lib\\site-packages (from torch>=1.8.0->ultralytics) (2025.2.0)\n",
      "Requirement already satisfied: setuptools in c:\\users\\user\\documents\\mlprojects\\vehiclespeeddetection\\venv\\lib\\site-packages (from torch>=1.8.0->ultralytics) (75.8.2)\n",
      "Requirement already satisfied: sympy==1.13.1 in c:\\users\\user\\documents\\mlprojects\\vehiclespeeddetection\\venv\\lib\\site-packages (from torch>=1.8.0->ultralytics) (1.13.1)\n",
      "Requirement already satisfied: mpmath<1.4,>=1.1.0 in c:\\users\\user\\documents\\mlprojects\\vehiclespeeddetection\\venv\\lib\\site-packages (from sympy==1.13.1->torch>=1.8.0->ultralytics) (1.3.0)\n",
      "Requirement already satisfied: colorama in c:\\users\\user\\documents\\mlprojects\\vehiclespeeddetection\\venv\\lib\\site-packages (from tqdm>=4.64.0->ultralytics) (0.4.6)\n",
      "Requirement already satisfied: six>=1.5 in c:\\users\\user\\documents\\mlprojects\\vehiclespeeddetection\\venv\\lib\\site-packages (from python-dateutil>=2.7->matplotlib>=3.3.0->ultralytics) (1.17.0)\n",
      "Requirement already satisfied: MarkupSafe>=2.0 in c:\\users\\user\\documents\\mlprojects\\vehiclespeeddetection\\venv\\lib\\site-packages (from jinja2->torch>=1.8.0->ultralytics) (3.0.2)\n",
      "Note: you may need to restart the kernel to use updated packages.\n"
     ]
    },
    {
     "name": "stderr",
     "output_type": "stream",
     "text": [
      "WARNING: Ignoring invalid distribution ~umpy (c:\\Users\\USER\\Documents\\MLProjects\\VehicleSpeedDetection\\venv\\Lib\\site-packages)\n",
      "WARNING: Ignoring invalid distribution ~umpy (c:\\Users\\USER\\Documents\\MLProjects\\VehicleSpeedDetection\\venv\\Lib\\site-packages)\n",
      "WARNING: Ignoring invalid distribution ~umpy (c:\\Users\\USER\\Documents\\MLProjects\\VehicleSpeedDetection\\venv\\Lib\\site-packages)\n",
      "\n",
      "[notice] A new release of pip is available: 24.2 -> 25.0.1\n",
      "[notice] To update, run: python.exe -m pip install --upgrade pip\n"
     ]
    }
   ],
   "source": [
    "pip install ultralytics"
   ]
  },
  {
   "cell_type": "code",
   "execution_count": 3,
   "metadata": {},
   "outputs": [
    {
     "data": {
      "text/plain": [
       "'8.3.83'"
      ]
     },
     "execution_count": 3,
     "metadata": {},
     "output_type": "execute_result"
    }
   ],
   "source": [
    "import ultralytics\n",
    "ultralytics.__version__"
   ]
  },
  {
   "cell_type": "code",
   "execution_count": 28,
   "metadata": {},
   "outputs": [
    {
     "name": "stdout",
     "output_type": "stream",
     "text": [
      "['.git', '.gitignore', 'data', 'LICENSE', 'README.md', 'requirements.txt', 'sort.py']\n"
     ]
    }
   ],
   "source": [
    "import os\n",
    "print(os.listdir(r\"C:\\Users\\USER\\Documents\\MLProjects\\VehicleSpeedDetection\\sort\"))"
   ]
  },
  {
   "cell_type": "code",
   "execution_count": 31,
   "metadata": {},
   "outputs": [],
   "source": [
    "import sys\n",
    "sys.path.append(r\"C:\\Users\\USER\\Documents\\MLProjects\\VehicleSpeedDetection\\sort\")\n",
    "\n",
    "from sort import*\n"
   ]
  },
  {
   "cell_type": "code",
   "execution_count": null,
   "metadata": {},
   "outputs": [],
   "source": [
    "import cv2\n",
    "import pandas as pd\n",
    "import numpy as np\n",
    "from ultralytics import YOLO\n",
    "\n",
    "\n"
   ]
  },
  {
   "cell_type": "code",
   "execution_count": 5,
   "metadata": {},
   "outputs": [],
   "source": [
    "# Import the model\n",
    "model = YOLO(\"model/yolov8s.pt\")"
   ]
  },
  {
   "cell_type": "code",
   "execution_count": 6,
   "metadata": {},
   "outputs": [],
   "source": [
    "class_list = [\"person\",\"bicycle\",\"car\",\"motorcycle\",\"airplane\",\"bus\",\"train\",\"truck\",\"boat\",\"traffic light\"]"
   ]
  },
  {
   "cell_type": "code",
   "execution_count": 34,
   "metadata": {},
   "outputs": [
    {
     "ename": "AttributeError",
     "evalue": "module 'cv2' has no attribute 'TrackerCSRT_create'",
     "output_type": "error",
     "traceback": [
      "\u001b[31m---------------------------------------------------------------------------\u001b[39m",
      "\u001b[31mAttributeError\u001b[39m                            Traceback (most recent call last)",
      "\u001b[36mCell\u001b[39m\u001b[36m \u001b[39m\u001b[32mIn[34]\u001b[39m\u001b[32m, line 1\u001b[39m\n\u001b[32m----> \u001b[39m\u001b[32m1\u001b[39m tracker = \u001b[43mcv2\u001b[49m\u001b[43m.\u001b[49m\u001b[43mTrackerCSRT_create\u001b[49m()\n\u001b[32m      2\u001b[39m count = \u001b[32m0\u001b[39m\n",
      "\u001b[31mAttributeError\u001b[39m: module 'cv2' has no attribute 'TrackerCSRT_create'"
     ]
    }
   ],
   "source": [
    "tracker = cv2.TrackerCSRT_create()\n",
    "count = 0"
   ]
  },
  {
   "cell_type": "code",
   "execution_count": 8,
   "metadata": {},
   "outputs": [
    {
     "name": "stdout",
     "output_type": "stream",
     "text": [
      "<deep_sort_realtime.deepsort_tracker.DeepSort object at 0x0000012C7813DC40>\n"
     ]
    }
   ],
   "source": [
    "print(tracker)"
   ]
  },
  {
   "cell_type": "code",
   "execution_count": 13,
   "metadata": {},
   "outputs": [],
   "source": [
    "# Import video\n",
    "cap = cv2.VideoCapture(\"video/highway_mini.mp4\")"
   ]
  },
  {
   "cell_type": "code",
   "execution_count": 14,
   "metadata": {},
   "outputs": [
    {
     "name": "stdout",
     "output_type": "stream",
     "text": [
      "\n",
      "0: 320x640 9 cars, 3 trucks, 124.0ms\n",
      "Speed: 2.7ms preprocess, 124.0ms inference, 1.2ms postprocess per image at shape (1, 3, 320, 640)\n"
     ]
    },
    {
     "name": "stderr",
     "output_type": "stream",
     "text": [
      "c:\\Users\\USER\\Documents\\MLProjects\\VehicleSpeedDetection\\venv\\Lib\\site-packages\\deep_sort_realtime\\deep_sort\\nn_matching.py:52: RuntimeWarning: invalid value encountered in divide\n",
      "  a = np.asarray(a) / np.linalg.norm(a, axis=1, keepdims=True)\n",
      "c:\\Users\\USER\\Documents\\MLProjects\\VehicleSpeedDetection\\venv\\Lib\\site-packages\\deep_sort_realtime\\deep_sort\\nn_matching.py:53: RuntimeWarning: invalid value encountered in divide\n",
      "  b = np.asarray(b) / np.linalg.norm(b, axis=1, keepdims=True)\n"
     ]
    },
    {
     "ename": "ValueError",
     "evalue": "matrix contains invalid numeric entries",
     "output_type": "error",
     "traceback": [
      "\u001b[31m---------------------------------------------------------------------------\u001b[39m",
      "\u001b[31mValueError\u001b[39m                                Traceback (most recent call last)",
      "\u001b[36mCell\u001b[39m\u001b[36m \u001b[39m\u001b[32mIn[14]\u001b[39m\u001b[32m, line 47\u001b[39m\n\u001b[32m     45\u001b[39m \u001b[38;5;66;03m# Pass detections to tracker\u001b[39;00m\n\u001b[32m     46\u001b[39m \u001b[38;5;28;01mif\u001b[39;00m \u001b[38;5;28mlen\u001b[39m(detections) > \u001b[32m0\u001b[39m:\n\u001b[32m---> \u001b[39m\u001b[32m47\u001b[39m     bbox_id = \u001b[43mtracker\u001b[49m\u001b[43m.\u001b[49m\u001b[43mupdate_tracks\u001b[49m\u001b[43m(\u001b[49m\u001b[43mdetections\u001b[49m\u001b[43m,\u001b[49m\u001b[43m \u001b[49m\u001b[43membeds\u001b[49m\u001b[43m=\u001b[49m\u001b[43membeddings\u001b[49m\u001b[43m \u001b[49m\u001b[38;5;28;43;01mif\u001b[39;49;00m\u001b[43m \u001b[49m\u001b[38;5;28;43mlen\u001b[39;49m\u001b[43m(\u001b[49m\u001b[43membeddings\u001b[49m\u001b[43m)\u001b[49m\u001b[43m \u001b[49m\u001b[43m>\u001b[49m\u001b[43m \u001b[49m\u001b[32;43m0\u001b[39;49m\u001b[43m \u001b[49m\u001b[38;5;28;43;01melse\u001b[39;49;00m\u001b[43m \u001b[49m\u001b[38;5;28;43;01mNone\u001b[39;49;00m\u001b[43m,\u001b[49m\u001b[43m \u001b[49m\u001b[43mframe\u001b[49m\u001b[43m=\u001b[49m\u001b[43mframe\u001b[49m\u001b[43m)\u001b[49m\n\u001b[32m     49\u001b[39m     \u001b[38;5;66;03m# Process the bounding boxes and assign IDs\u001b[39;00m\n\u001b[32m     50\u001b[39m     \u001b[38;5;28;01mfor\u001b[39;00m track \u001b[38;5;129;01min\u001b[39;00m bbox_id:\n",
      "\u001b[36mFile \u001b[39m\u001b[32mc:\\Users\\USER\\Documents\\MLProjects\\VehicleSpeedDetection\\venv\\Lib\\site-packages\\deep_sort_realtime\\deepsort_tracker.py:228\u001b[39m, in \u001b[36mDeepSort.update_tracks\u001b[39m\u001b[34m(self, raw_detections, embeds, frame, today, others, instance_masks)\u001b[39m\n\u001b[32m    226\u001b[39m \u001b[38;5;66;03m# Update tracker.\u001b[39;00m\n\u001b[32m    227\u001b[39m \u001b[38;5;28mself\u001b[39m.tracker.predict()\n\u001b[32m--> \u001b[39m\u001b[32m228\u001b[39m \u001b[38;5;28;43mself\u001b[39;49m\u001b[43m.\u001b[49m\u001b[43mtracker\u001b[49m\u001b[43m.\u001b[49m\u001b[43mupdate\u001b[49m\u001b[43m(\u001b[49m\u001b[43mdetections\u001b[49m\u001b[43m,\u001b[49m\u001b[43m \u001b[49m\u001b[43mtoday\u001b[49m\u001b[43m=\u001b[49m\u001b[43mtoday\u001b[49m\u001b[43m)\u001b[49m\n\u001b[32m    230\u001b[39m \u001b[38;5;28;01mreturn\u001b[39;00m \u001b[38;5;28mself\u001b[39m.tracker.tracks\n",
      "\u001b[36mFile \u001b[39m\u001b[32mc:\\Users\\USER\\Documents\\MLProjects\\VehicleSpeedDetection\\venv\\Lib\\site-packages\\deep_sort_realtime\\deep_sort\\tracker.py:97\u001b[39m, in \u001b[36mTracker.update\u001b[39m\u001b[34m(self, detections, today)\u001b[39m\n\u001b[32m     94\u001b[39m         \u001b[38;5;28mself\u001b[39m._next_id = \u001b[32m1\u001b[39m\n\u001b[32m     96\u001b[39m \u001b[38;5;66;03m# Run matching cascade.\u001b[39;00m\n\u001b[32m---> \u001b[39m\u001b[32m97\u001b[39m matches, unmatched_tracks, unmatched_detections = \u001b[38;5;28;43mself\u001b[39;49m\u001b[43m.\u001b[49m\u001b[43m_match\u001b[49m\u001b[43m(\u001b[49m\u001b[43mdetections\u001b[49m\u001b[43m)\u001b[49m\n\u001b[32m     99\u001b[39m \u001b[38;5;66;03m# Update track set.\u001b[39;00m\n\u001b[32m    100\u001b[39m \u001b[38;5;28;01mfor\u001b[39;00m track_idx, detection_idx \u001b[38;5;129;01min\u001b[39;00m matches:\n",
      "\u001b[36mFile \u001b[39m\u001b[32mc:\\Users\\USER\\Documents\\MLProjects\\VehicleSpeedDetection\\venv\\Lib\\site-packages\\deep_sort_realtime\\deep_sort\\tracker.py:151\u001b[39m, in \u001b[36mTracker._match\u001b[39m\u001b[34m(self, detections)\u001b[39m\n\u001b[32m    142\u001b[39m unconfirmed_tracks = [\n\u001b[32m    143\u001b[39m     i \u001b[38;5;28;01mfor\u001b[39;00m i, t \u001b[38;5;129;01min\u001b[39;00m \u001b[38;5;28menumerate\u001b[39m(\u001b[38;5;28mself\u001b[39m.tracks) \u001b[38;5;28;01mif\u001b[39;00m \u001b[38;5;129;01mnot\u001b[39;00m t.is_confirmed()\n\u001b[32m    144\u001b[39m ]\n\u001b[32m    146\u001b[39m \u001b[38;5;66;03m# Associate confirmed tracks using appearance features.\u001b[39;00m\n\u001b[32m    147\u001b[39m (\n\u001b[32m    148\u001b[39m     matches_a,\n\u001b[32m    149\u001b[39m     unmatched_tracks_a,\n\u001b[32m    150\u001b[39m     unmatched_detections,\n\u001b[32m--> \u001b[39m\u001b[32m151\u001b[39m ) = \u001b[43mlinear_assignment\u001b[49m\u001b[43m.\u001b[49m\u001b[43mmatching_cascade\u001b[49m\u001b[43m(\u001b[49m\n\u001b[32m    152\u001b[39m \u001b[43m    \u001b[49m\u001b[43mgated_metric\u001b[49m\u001b[43m,\u001b[49m\n\u001b[32m    153\u001b[39m \u001b[43m    \u001b[49m\u001b[38;5;28;43mself\u001b[39;49m\u001b[43m.\u001b[49m\u001b[43mmetric\u001b[49m\u001b[43m.\u001b[49m\u001b[43mmatching_threshold\u001b[49m\u001b[43m,\u001b[49m\n\u001b[32m    154\u001b[39m \u001b[43m    \u001b[49m\u001b[38;5;28;43mself\u001b[39;49m\u001b[43m.\u001b[49m\u001b[43mmax_age\u001b[49m\u001b[43m,\u001b[49m\n\u001b[32m    155\u001b[39m \u001b[43m    \u001b[49m\u001b[38;5;28;43mself\u001b[39;49m\u001b[43m.\u001b[49m\u001b[43mtracks\u001b[49m\u001b[43m,\u001b[49m\n\u001b[32m    156\u001b[39m \u001b[43m    \u001b[49m\u001b[43mdetections\u001b[49m\u001b[43m,\u001b[49m\n\u001b[32m    157\u001b[39m \u001b[43m    \u001b[49m\u001b[43mconfirmed_tracks\u001b[49m\u001b[43m,\u001b[49m\n\u001b[32m    158\u001b[39m \u001b[43m\u001b[49m\u001b[43m)\u001b[49m\n\u001b[32m    160\u001b[39m \u001b[38;5;66;03m# Associate remaining tracks together with unconfirmed tracks using IOU.\u001b[39;00m\n\u001b[32m    161\u001b[39m iou_track_candidates = unconfirmed_tracks + [\n\u001b[32m    162\u001b[39m     k \u001b[38;5;28;01mfor\u001b[39;00m k \u001b[38;5;129;01min\u001b[39;00m unmatched_tracks_a \u001b[38;5;28;01mif\u001b[39;00m \u001b[38;5;28mself\u001b[39m.tracks[k].time_since_update == \u001b[32m1\u001b[39m\n\u001b[32m    163\u001b[39m ]\n",
      "\u001b[36mFile \u001b[39m\u001b[32mc:\\Users\\USER\\Documents\\MLProjects\\VehicleSpeedDetection\\venv\\Lib\\site-packages\\deep_sort_realtime\\deep_sort\\linear_assignment.py:147\u001b[39m, in \u001b[36mmatching_cascade\u001b[39m\u001b[34m(distance_metric, max_distance, cascade_depth, tracks, detections, track_indices, detection_indices)\u001b[39m\n\u001b[32m    144\u001b[39m     \u001b[38;5;28;01mif\u001b[39;00m \u001b[38;5;28mlen\u001b[39m(track_indices_l) == \u001b[32m0\u001b[39m:  \u001b[38;5;66;03m# Nothing to match at this level\u001b[39;00m\n\u001b[32m    145\u001b[39m         \u001b[38;5;28;01mcontinue\u001b[39;00m\n\u001b[32m--> \u001b[39m\u001b[32m147\u001b[39m     matches_l, _, unmatched_detections = \u001b[43mmin_cost_matching\u001b[49m\u001b[43m(\u001b[49m\n\u001b[32m    148\u001b[39m \u001b[43m        \u001b[49m\u001b[43mdistance_metric\u001b[49m\u001b[43m,\u001b[49m\n\u001b[32m    149\u001b[39m \u001b[43m        \u001b[49m\u001b[43mmax_distance\u001b[49m\u001b[43m,\u001b[49m\n\u001b[32m    150\u001b[39m \u001b[43m        \u001b[49m\u001b[43mtracks\u001b[49m\u001b[43m,\u001b[49m\n\u001b[32m    151\u001b[39m \u001b[43m        \u001b[49m\u001b[43mdetections\u001b[49m\u001b[43m,\u001b[49m\n\u001b[32m    152\u001b[39m \u001b[43m        \u001b[49m\u001b[43mtrack_indices_l\u001b[49m\u001b[43m,\u001b[49m\n\u001b[32m    153\u001b[39m \u001b[43m        \u001b[49m\u001b[43munmatched_detections\u001b[49m\u001b[43m,\u001b[49m\n\u001b[32m    154\u001b[39m \u001b[43m    \u001b[49m\u001b[43m)\u001b[49m\n\u001b[32m    155\u001b[39m     matches += matches_l\n\u001b[32m    156\u001b[39m unmatched_tracks = \u001b[38;5;28mlist\u001b[39m(\u001b[38;5;28mset\u001b[39m(track_indices) - \u001b[38;5;28mset\u001b[39m(k \u001b[38;5;28;01mfor\u001b[39;00m k, _ \u001b[38;5;129;01min\u001b[39;00m matches))\n",
      "\u001b[36mFile \u001b[39m\u001b[32mc:\\Users\\USER\\Documents\\MLProjects\\VehicleSpeedDetection\\venv\\Lib\\site-packages\\deep_sort_realtime\\deep_sort\\linear_assignment.py:65\u001b[39m, in \u001b[36mmin_cost_matching\u001b[39m\u001b[34m(distance_metric, max_distance, tracks, detections, track_indices, detection_indices)\u001b[39m\n\u001b[32m     63\u001b[39m cost_matrix[cost_matrix > max_distance] = max_distance + \u001b[32m1e-5\u001b[39m\n\u001b[32m     64\u001b[39m \u001b[38;5;66;03m# indices = linear_assignment(cost_matrix)\u001b[39;00m\n\u001b[32m---> \u001b[39m\u001b[32m65\u001b[39m indices = np.vstack(\u001b[43mlinear_sum_assignment\u001b[49m\u001b[43m(\u001b[49m\u001b[43mcost_matrix\u001b[49m\u001b[43m)\u001b[49m).T\n\u001b[32m     67\u001b[39m matches, unmatched_tracks, unmatched_detections = [], [], []\n\u001b[32m     68\u001b[39m \u001b[38;5;28;01mfor\u001b[39;00m col, detection_idx \u001b[38;5;129;01min\u001b[39;00m \u001b[38;5;28menumerate\u001b[39m(detection_indices):\n",
      "\u001b[31mValueError\u001b[39m: matrix contains invalid numeric entries"
     ]
    }
   ],
   "source": [
    "while True:\n",
    "    ret, frame = cap.read()\n",
    "    if not ret:\n",
    "        break\n",
    "    count += 1\n",
    "    frame = cv2.resize(frame, (1020, 500))\n",
    "\n",
    "    # Perform object detection with YOLO\n",
    "    results = model.predict(frame)\n",
    "\n",
    "    # Parse results\n",
    "    a = results[0].boxes.data\n",
    "    a = a.detach().cpu().numpy()\n",
    "    px = pd.DataFrame(a).astype(\"float\")\n",
    "    \n",
    "    # Prepare detections for DeepSort\n",
    "    detections = []\n",
    "    embeddings = []  # ✅ Keep as a Python list\n",
    "\n",
    "    for _, row in px.iterrows():\n",
    "        x1, y1, x2, y2 = map(int, row[:4])  # Bounding box coordinates\n",
    "        confidence = float(row[4])\n",
    "        class_id = int(row[5])\n",
    "        detected_class = class_list[class_id]\n",
    "\n",
    "        # Filter for specific vehicle classes\n",
    "        if detected_class in [\"car\", \"truck\", \"motorcycle\"]:\n",
    "            detections.append(([x1, y1, x2, y2], confidence))\n",
    "\n",
    "            # Placeholder for extracting embeddings (if using DeepSORT with embeddings)\n",
    "            embedding = np.zeros((128,))  # Replace with real embeddings if available\n",
    "            embeddings.append(embedding)  # ✅ Fix: Append correctly to the list\n",
    "\n",
    "    # Convert embeddings to NumPy array safely\n",
    "    embeddings = np.array(embeddings) if embeddings else np.zeros((len(detections), 128))\n",
    "\n",
    "    # Ensure embeddings length matches detections\n",
    "    if len(detections) != len(embeddings):\n",
    "        print(f\"Warning: Mismatch! Detections: {len(detections)}, Embeddings: {len(embeddings)}\")\n",
    "        embeddings = np.zeros((len(detections), 128))\n",
    "\n",
    "    # Ensure valid embeddings\n",
    "    embeddings = np.nan_to_num(embeddings)\n",
    "\n",
    "    # Pass detections to tracker\n",
    "    if len(detections) > 0:\n",
    "        bbox_id = tracker.update_tracks(detections, embeds=embeddings if len(embeddings) > 0 else None, frame=frame)\n",
    "\n",
    "        # Process the bounding boxes and assign IDs\n",
    "        for track in bbox_id:\n",
    "            x3, y3, x4, y4 = track.to_tlbr()  # Get bounding box\n",
    "            track_id = track.track_id  # Get the track ID\n",
    "            \n",
    "            cx, cy = (x3 + x4) // 2, (y3 + y4) // 2  # Compute center\n",
    "            \n",
    "            # Draw bounding box, center point, and ID\n",
    "            cv2.circle(frame, (int(cx), int(cy)), 4, (0, 0, 255), -1)\n",
    "            cv2.rectangle(frame, (int(x3), int(y3)), (int(x4), int(y4)), (0, 255, 0), 2)\n",
    "            cv2.putText(frame, f\"ID: {track_id}\", (int(x3), int(y3) - 10),\n",
    "                        cv2.FONT_HERSHEY_SIMPLEX, 0.9, (0, 255, 0), 2)\n",
    "\n",
    "    # Show the frame\n",
    "    cv2.imshow(\"frames\", frame)\n",
    "\n",
    "    # Exit on 'Esc' key press\n",
    "    if cv2.waitKey(0) & 0xFF == 27:\n",
    "        break\n",
    "\n",
    "# Release resources\n",
    "cap.release()\n",
    "cv2.destroyAllWindows()\n"
   ]
  }
 ],
 "metadata": {
  "kernelspec": {
   "display_name": "venv",
   "language": "python",
   "name": "python3"
  },
  "language_info": {
   "codemirror_mode": {
    "name": "ipython",
    "version": 3
   },
   "file_extension": ".py",
   "mimetype": "text/x-python",
   "name": "python",
   "nbconvert_exporter": "python",
   "pygments_lexer": "ipython3",
   "version": "3.12.6"
  }
 },
 "nbformat": 4,
 "nbformat_minor": 2
}
